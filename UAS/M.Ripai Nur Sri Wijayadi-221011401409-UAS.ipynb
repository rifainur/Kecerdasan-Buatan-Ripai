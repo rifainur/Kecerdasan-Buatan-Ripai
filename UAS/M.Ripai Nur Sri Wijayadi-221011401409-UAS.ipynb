{
 "cells": [
  {
   "cell_type": "code",
   "execution_count": 1,
   "id": "ba16226c-4b7a-49d0-8af0-ca05cbde200e",
   "metadata": {},
   "outputs": [],
   "source": [
    "# Fungsi keanggotaan fuzzy\n",
    "def fuzzify_kecepatan(value):\n",
    "    lambat = max(0, min(1, (5 - value) / 5))\n",
    "    sedang = max(0, min((value / 5), (10 - value) / 5))\n",
    "    cepat = max(0, min(1, (value - 5) / 5))\n",
    "    return lambat, sedang, cepat\n",
    "\n",
    "def fuzzify_kualitas(value):\n",
    "    buruk = max(0, min(1, (5 - value) / 5))\n",
    "    sedang = max(0, min((value / 5), (10 - value) / 5))\n",
    "    bagus = max(0, min(1, (value - 5) / 5))\n",
    "    return buruk, sedang, bagus\n",
    "\n",
    "def fuzzify_suasana(value):\n",
    "    tidak_nyaman = max(0, min(1, (5 - value) / 5))\n",
    "    cukup = max(0, min((value / 5), (10 - value) / 5))\n",
    "    nyaman = max(0, min(1, (value - 5) / 5))\n",
    "    return tidak_nyaman, cukup, nyaman"
   ]
  },
  {
   "cell_type": "code",
   "execution_count": 5,
   "id": "80df821a-b8a1-46af-8a6e-6e090ed5f156",
   "metadata": {},
   "outputs": [],
   "source": [
    "# Rule base\n",
    "def inferensi(kecepatan_fuzz, kualitas_fuzz, suasana_fuzz):\n",
    "    lambat, sedang, cepat = kecepatan_fuzz\n",
    "    buruk, sedang_kualitas, bagus = kualitas_fuzz\n",
    "    tidak_nyaman, cukup, nyaman = suasana_fuzz\n",
    "\n",
    "    # Aturan fuzzy\n",
    "    tidak_puas = max(\n",
    "        min(lambat, buruk, tidak_nyaman),\n",
    "        min(lambat, buruk, cukup),\n",
    "        min(sedang, buruk, tidak_nyaman),\n",
    "    )\n",
    "\n",
    "    puas = max(\n",
    "        min(sedang, sedang_kualitas, cukup),\n",
    "        min(cepat, sedang_kualitas, cukup),\n",
    "    )\n",
    "\n",
    "    sangat_puas = min(cepat, bagus, nyaman)  # Tidak perlu max() di sini\n",
    "\n",
    "    return tidak_puas, puas, sangat_puas"
   ]
  },
  {
   "cell_type": "code",
   "execution_count": 4,
   "id": "3b5b4ba2-f042-4936-8a3b-31922038e1b3",
   "metadata": {},
   "outputs": [],
   "source": [
    "# Defuzzifikasi (metode Centroid)\n",
    "def defuzzifikasi(tidak_puas, puas, sangat_puas):\n",
    "    # Domain output (0 - 10), tanpa NumPy\n",
    "    domain = [x * 0.1 for x in range(101)]  # Menggunakan list comprehension untuk membuat domain dari 0 sampai 10\n",
    "\n",
    "    # Fungsi keanggotaan output\n",
    "    def tidak_puas_mf(x):\n",
    "        return max(0, min(1, (5 - x) / 5))\n",
    "\n",
    "    def puas_mf(x):\n",
    "        return max(0, min((x / 5), (10 - x) / 5))\n",
    "\n",
    "    def sangat_puas_mf(x):\n",
    "        return max(0, min(1, (x - 5) / 5))\n",
    "\n",
    "    # Hitung kombinasi keanggotaan\n",
    "    aggregated = [\n",
    "        max(\n",
    "            tidak_puas * tidak_puas_mf(x),\n",
    "            puas * puas_mf(x),\n",
    "            sangat_puas * sangat_puas_mf(x),\n",
    "        )\n",
    "        for x in domain\n",
    "    ]\n",
    "    \n",
    "    # Defuzzifikasi (centroid)\n",
    "    numerator = sum(x * aggregated[i] for i, x in enumerate(domain))\n",
    "    denominator = sum(aggregated)\n",
    "    return numerator / denominator if denominator != 0 else 0"
   ]
  },
  {
   "cell_type": "code",
   "execution_count": 6,
   "id": "e504c399-8adc-4929-b195-a69fd6bc5504",
   "metadata": {},
   "outputs": [],
   "source": [
    "# Input nilai\n",
    "kecepatan = 7  # Nilai kecepatan pelayanan (0-10)\n",
    "kualitas = 8   # Nilai kualitas makanan (0-10)\n",
    "suasana = 6    # Nilai suasana restoran (0-10)"
   ]
  },
  {
   "cell_type": "code",
   "execution_count": 7,
   "id": "ebda6271-09e0-409a-aaa8-63f4f33aff90",
   "metadata": {},
   "outputs": [],
   "source": [
    "# Proses fuzzy\n",
    "kecepatan_fuzz = fuzzify_kecepatan(kecepatan)\n",
    "kualitas_fuzz = fuzzify_kualitas(kualitas)\n",
    "suasana_fuzz = fuzzify_suasana(suasana)\n",
    "\n",
    "# Inferensi\n",
    "tidak_puas, puas, sangat_puas = inferensi(kecepatan_fuzz, kualitas_fuzz, suasana_fuzz)"
   ]
  },
  {
   "cell_type": "code",
   "execution_count": 8,
   "id": "8a3f97d7-3452-4926-829b-a8505a505bab",
   "metadata": {},
   "outputs": [],
   "source": [
    "# Defuzzifikasi\n",
    "hasil = defuzzifikasi(tidak_puas, puas, sangat_puas)"
   ]
  },
  {
   "cell_type": "code",
   "execution_count": 12,
   "id": "955f8552-6a59-41cb-9d43-02b2b957026f",
   "metadata": {},
   "outputs": [
    {
     "name": "stdout",
     "output_type": "stream",
     "text": [
      "Tingkat kebahagiaan pelanggan: 85.68\n"
     ]
    }
   ],
   "source": [
    "print(f\"Tingkat kebahagiaan pelanggan: {hasil:.2f}\")"
   ]
  },
  {
   "cell_type": "code",
   "execution_count": null,
   "id": "0a4c5f73-962a-40d7-a0b6-56e0d8cb481c",
   "metadata": {},
   "outputs": [],
   "source": []
  }
 ],
 "metadata": {
  "kernelspec": {
   "display_name": "Python 3 (ipykernel)",
   "language": "python",
   "name": "python3"
  },
  "language_info": {
   "codemirror_mode": {
    "name": "ipython",
    "version": 3
   },
   "file_extension": ".py",
   "mimetype": "text/x-python",
   "name": "python",
   "nbconvert_exporter": "python",
   "pygments_lexer": "ipython3",
   "version": "3.12.6"
  }
 },
 "nbformat": 4,
 "nbformat_minor": 5
}
