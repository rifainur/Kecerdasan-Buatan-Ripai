{
 "cells": [
  {
   "cell_type": "code",
   "execution_count": 7,
   "id": "79a071be-42b3-492a-b97e-411a84795fd0",
   "metadata": {},
   "outputs": [],
   "source": [
    "\n",
    "level = {\n",
    "    'intern': {\n",
    "        'bonus': 5\n",
    "    },\n",
    "    'staff': {\n",
    "        'bonus': 10\n",
    "    },\n",
    "    'manager': {\n",
    "        'bonus': 15\n",
    "    },\n",
    "    'director': {\n",
    "        'bonus': 20\n",
    "    }\n",
    "}\n",
    "\n",
    "\n",
    "employee_data = [\n",
    "    {\n",
    "        'name': 'Rudi',\n",
    "        'level': 'staff',\n",
    "        'salary': 7500000\n",
    "    },\n",
    "    {\n",
    "        'name': 'Rita',\n",
    "        'level': 'intern',\n",
    "        'salary': 1000000\n",
    "    },\n",
    "    {\n",
    "        'name': 'Asep',\n",
    "        'level': 'manager',\n",
    "        'salary': 12000000\n",
    "    },\n",
    "    {\n",
    "        'name': 'Ricky',\n",
    "        'level': 'manager',\n",
    "        'salary': 13500000\n",
    "    },\n",
    "    {\n",
    "        'name': 'Lisa',\n",
    "        'level': 'staff',\n",
    "        'salary': 8500000\n",
    "    },\n",
    "    {\n",
    "        'name': 'Imam',\n",
    "        'level': 'intern',\n",
    "        'salary': 1050000\n",
    "    },\n",
    "    {\n",
    "        'name': 'Haryo',\n",
    "        'level': 'director',\n",
    "        'salary': 35000000\n",
    "    }\n",
    "]"
   ]
  },
  {
   "cell_type": "code",
   "execution_count": 8,
   "id": "0273d88c-5728-4c56-8000-c7b2ee7e8ff3",
   "metadata": {},
   "outputs": [],
   "source": [
    "employee_bonus = {}\n",
    "for employee in employee_data:\n",
    "    name = employee['name']\n",
    "    level_name = employee['level']\n",
    "    salary = employee['salary']\n",
    "    \n",
    "    bonus_percentage = level.get(level_name, {}).get('bonus', 0)\n",
    "    \n",
    "    bonus = salary * bonus_percentage / 100\n",
    "    \n",
    "    employee_bonus[name] = bonus"
   ]
  },
  {
   "cell_type": "code",
   "execution_count": 9,
   "id": "441449ef-83cd-4b72-8cbc-eb1ebc59662d",
   "metadata": {},
   "outputs": [
    {
     "name": "stdout",
     "output_type": "stream",
     "text": [
      "Rudi: 750000.0\n",
      "Rita: 50000.0\n",
      "Asep: 1800000.0\n",
      "Ricky: 2025000.0\n",
      "Lisa: 850000.0\n",
      "Imam: 52500.0\n",
      "Haryo: 7000000.0\n"
     ]
    }
   ],
   "source": [
    "for name, bonus in employee_bonus.items():\n",
    "    print(f\"{name}: {bonus}\")"
   ]
  },
  {
   "cell_type": "code",
   "execution_count": null,
   "id": "81f06138-6e06-4518-8a04-d1136b765fb6",
   "metadata": {},
   "outputs": [],
   "source": []
  }
 ],
 "metadata": {
  "kernelspec": {
   "display_name": "Python 3 (ipykernel)",
   "language": "python",
   "name": "python3"
  },
  "language_info": {
   "codemirror_mode": {
    "name": "ipython",
    "version": 3
   },
   "file_extension": ".py",
   "mimetype": "text/x-python",
   "name": "python",
   "nbconvert_exporter": "python",
   "pygments_lexer": "ipython3",
   "version": "3.12.6"
  }
 },
 "nbformat": 4,
 "nbformat_minor": 5
}
